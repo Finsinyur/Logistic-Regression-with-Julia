{
 "cells": [
  {
   "cell_type": "markdown",
   "metadata": {},
   "source": [
    "# Logistic Regression with Julia\n",
    "\n",
    "This is an exercise to adopt Julia in simple machine learning. This project is adapted from \"Neural Networks and Deep Learning\" by Andrew Ng of deeplearning.ai. The original implementation is on Python, and this project seeks to replicate the project using Julia programming."
   ]
  },
  {
   "cell_type": "markdown",
   "metadata": {},
   "source": [
    "## Import relevant packages"
   ]
  },
  {
   "cell_type": "code",
   "execution_count": null,
   "metadata": {},
   "outputs": [],
   "source": [
    "# Run this cell only if you do not have HDF5 and PyPlot installed\n",
    "using Pkg\n",
    "Pkg.add(\"HDF5\")\n",
    "Pkg.add(\"PyPlot\")"
   ]
  },
  {
   "cell_type": "code",
   "execution_count": 1,
   "metadata": {},
   "outputs": [],
   "source": [
    "using HDF5 # to read the .h5 dataset\n",
    "using Plots # to plot line chart\n",
    "using PyPlot # to visualize the images\n",
    "using Random # Random numbers generator\n",
    "using Statistics # to calculate summary statistics\n",
    "using BenchmarkTools"
   ]
  },
  {
   "cell_type": "markdown",
   "metadata": {},
   "source": [
    "## Load Data"
   ]
  },
  {
   "cell_type": "code",
   "execution_count": 2,
   "metadata": {},
   "outputs": [
    {
     "data": {
      "text/plain": [
       "load_data (generic function with 1 method)"
      ]
     },
     "execution_count": 2,
     "metadata": {},
     "output_type": "execute_result"
    }
   ],
   "source": [
    "function load_data(filename, set_name)\n",
    "    # Extract input features (the images)\n",
    "    set_x = h5read(\"$filename\",\"$(set_name)_x\")\n",
    "    set_x = permutedims(set_x,(4,3,2,1)) # Need to re-order the matrix for it to be readable\n",
    "    println(\"Shape of $(set_name)_x: $(size(set_x)).\")\n",
    "    \n",
    "    set_y = h5read(\"$filename\",\"$(set_name)_y\")\n",
    "    set_y = reshape(set_y, (1,size(set_y)[1])) # reshape the output labels to fit the model better\n",
    "    println(\"Shape of $(set_name)_y: $(size(set_y)).\")\n",
    "    \n",
    "    set_class = h5read(\"$filename\",\"list_classes\") # extract class information\n",
    "    println(set_class)\n",
    "    return set_x, set_y, set_class\n",
    "end"
   ]
  },
  {
   "cell_type": "code",
   "execution_count": 3,
   "metadata": {},
   "outputs": [
    {
     "name": "stdout",
     "output_type": "stream",
     "text": [
      "Shape of train_set_x: (209, 64, 64, 3).\n",
      "Shape of train_set_y: (1, 209).\n",
      "[\"non-cat\", \"cat\"]\n"
     ]
    }
   ],
   "source": [
    "train_file = \"train_catvnoncat.h5\"\n",
    "trainset_x, trainset_y, trainset_class = load_data(train_file, \"train_set\");"
   ]
  },
  {
   "cell_type": "code",
   "execution_count": 4,
   "metadata": {
    "scrolled": true
   },
   "outputs": [
    {
     "name": "stdout",
     "output_type": "stream",
     "text": [
      "Shape of test_set_x: (50, 64, 64, 3).\n",
      "Shape of test_set_y: (1, 50).\n",
      "[\"non-cat\", \"cat\"]\n"
     ]
    }
   ],
   "source": [
    "test_file = \"test_catvnoncat.h5\"\n",
    "testset_x, testset_y, testset_class = load_data(test_file, \"test_set\");"
   ]
  },
  {
   "cell_type": "markdown",
   "metadata": {},
   "source": [
    "## Visualize the images\n",
    "\n",
    "In order to understand our dataset better, sometimes it is useful to visualize our dataset. Here, we will use the PyPlot package."
   ]
  },
  {
   "cell_type": "code",
   "execution_count": 5,
   "metadata": {},
   "outputs": [
    {
     "data": {
      "image/png": "[encoded data removed]",
      "text/plain": [
       "Figure(PyObject <Figure size 640x480 with 1 Axes>)"
      ]
     },
     "metadata": {},
     "output_type": "display_data"
    },
    {
     "name": "stdout",
     "output_type": "stream",
     "text": [
      "Image 84 of the train set shows a 'cat' picture!\n"
     ]
    }
   ],
   "source": [
    "index = rand(1:209)\n",
    "println(\"Image $index of the train set shows a '$(trainset_class[trainset_y[index]+1])' picture!\")\n",
    "imshow(trainset_x[index,:,:,:]);"
   ]
  },
  {
   "cell_type": "markdown",
   "metadata": {},
   "source": [
    "## Data processing\n",
    "\n",
    "Here we shall work on processing the matrices such that they could fit into the model. Also, we shall create variables such as ```m_train``` and ```m_test``` to store the number of train and test data we have."
   ]
  },
  {
   "cell_type": "code",
   "execution_count": 6,
   "metadata": {},
   "outputs": [
    {
     "name": "stdout",
     "output_type": "stream",
     "text": [
      "Our train set has a total of 209 samples, and our test set has 50 samples.\n"
     ]
    }
   ],
   "source": [
    "m_train = size(trainset_x)[1]\n",
    "m_test = size(testset_x)[1]\n",
    "\n",
    "println(\"Our train set has a total of $m_train samples, and our test set has $m_test samples.\")"
   ]
  },
  {
   "cell_type": "code",
   "execution_count": 7,
   "metadata": {},
   "outputs": [
    {
     "name": "stdout",
     "output_type": "stream",
     "text": [
      "The dimension of the trainset is (12288, 209).\n",
      "The dimension of the testset is (12288, 50).\n"
     ]
    }
   ],
   "source": [
    "# Flattening the input features into an one-dimensional array\n",
    "trainset_x_flattened = Int.(transpose(reshape(trainset_x, (m_train,:))))\n",
    "testset_x_flattened = Int.(transpose(reshape(testset_x, (m_test,:))))\n",
    "\n",
    "println(\"The dimension of the trainset is $(size(trainset_x_flattened)).\")\n",
    "println(\"The dimension of the testset is $(size(testset_x_flattened)).\")\n"
   ]
  },
  {
   "cell_type": "code",
   "execution_count": 8,
   "metadata": {},
   "outputs": [],
   "source": [
    "# Scale data\n",
    "trainset_x_final = trainset_x_flattened ./ 255\n",
    "testset_x_final = testset_x_flattened ./ 255;"
   ]
  },
  {
   "cell_type": "markdown",
   "metadata": {},
   "source": [
    "## Building our algorithm\n",
    "\n",
    "Mathematical expression of the logistic regression algorithm:<br>\n",
    "For an example $x^{(i)}$:<br>\n",
    "$z^{(i)} = w^Tx^{(i)}+b$<br>\n",
    "$\\hat{y}^{(i)} = a^{(i)} = sigmoid(z^{(i)})$<br>\n",
    "$\\mathcal{L}(a^{(i)},y^{(i)}) = -y^{(i)}log(a^{(i)})-(1-y^{(i)})log(1-a^{(i)})$<br>\n",
    "\n",
    "The cost of summing over all training examples: $J = \\frac{1}{m} \\sum^m_{i=1} \\mathcal{L}(a^{(i)},y^{(i)})$\n",
    "\n",
    "Steps to building the model:\n",
    "1. Define Sigmoid function, to be used by the Gradient Descent Algorithm\n",
    "2. Build the Gradient Descent Algorithm, which comes in 3 parts:\n",
    "    - Forward and Backward propagation\n",
    "    - Initialize weights (w) and bias (b)\n",
    "    - Optimization - the constant update of weights and bias with given number of iterations and learning rate\n",
    "3. Create the Predict Function, which would predict the label given the input features, using the trained weights and bias"
   ]
  },
  {
   "cell_type": "markdown",
   "metadata": {},
   "source": [
    "### Define the Sigmoid function"
   ]
  },
  {
   "cell_type": "code",
   "execution_count": 9,
   "metadata": {},
   "outputs": [],
   "source": [
    "Sigmoid(z) = 1/(1+exp(-z));"
   ]
  },
  {
   "cell_type": "code",
   "execution_count": 10,
   "metadata": {
    "scrolled": true
   },
   "outputs": [
    {
     "data": {
      "text/plain": [
       "1×2 Array{Float64,2}:\n",
       " 0.880797  0.5"
      ]
     },
     "execution_count": 10,
     "metadata": {},
     "output_type": "execute_result"
    }
   ],
   "source": [
    "# Test the sigmoid function\n",
    "Sigmoid.([2 0])"
   ]
  },
  {
   "cell_type": "markdown",
   "metadata": {},
   "source": [
    "From this trial, we can safely assume that our function is created properly and is good to go!<br>\n",
    "Also to note - the broadcasting method used \"Sigmoid.(array)\"."
   ]
  },
  {
   "cell_type": "markdown",
   "metadata": {},
   "source": [
    "### Gradient Descent Algorithm\n",
    "\n",
    "#### Initialize weights and bias"
   ]
  },
  {
   "cell_type": "code",
   "execution_count": 11,
   "metadata": {},
   "outputs": [
    {
     "data": {
      "text/plain": [
       "initialize_with_zeroes (generic function with 1 method)"
      ]
     },
     "execution_count": 11,
     "metadata": {},
     "output_type": "execute_result"
    }
   ],
   "source": [
    "function initialize_with_zeroes(dim)\n",
    "    # Initialize vector W with given dimension\n",
    "    W = zeros(Float64, dim, 1)\n",
    "    b = 0.\n",
    "    \n",
    "    return W, b\n",
    "end"
   ]
  },
  {
   "cell_type": "code",
   "execution_count": 12,
   "metadata": {},
   "outputs": [
    {
     "name": "stdout",
     "output_type": "stream",
     "text": [
      "W = [0.0; 0.0], dimension = (2, 1)\n",
      "b = 0.0\n"
     ]
    }
   ],
   "source": [
    "# Test function\n",
    "W, b = initialize_with_zeroes(2)\n",
    "println(\"W = $W, dimension = $(size(W))\")\n",
    "println(\"b = $b\")"
   ]
  },
  {
   "cell_type": "markdown",
   "metadata": {},
   "source": [
    "### Forward and Backward Propagation\n",
    "Forward Propagation:\n",
    "- get X\n",
    "- Compute $A = \\sigma(w^TX+b) = (a^{(1)}, a^{(2)}, ..., a^{(m)}$)\n",
    "- Calculate Cost Function $J = -\\frac{1}{m}\\sum_i^m (y^{(i)}log(a^{(i)})+(1-y)log(1-a^{(i)}))$\n",
    "\n",
    "Backward Propagation:\n",
    "- $\\frac{dJ}{dw} = dw = \\frac{1}{m}X(A-Y)^T$\n",
    "- $\\frac{dJ}{dvb} = db = \\frac{1}{m}\\sum_{i = 1}^m(a^{(i)}-y^{(i)})$\n"
   ]
  },
  {
   "cell_type": "code",
   "execution_count": 13,
   "metadata": {},
   "outputs": [
    {
     "data": {
      "text/plain": [
       "propagate (generic function with 1 method)"
      ]
     },
     "execution_count": 13,
     "metadata": {},
     "output_type": "execute_result"
    }
   ],
   "source": [
    "function propagate(w, b, X, Y)\n",
    "    m = size(X)[2]\n",
    "    \n",
    "    # Forward Propagation\n",
    "    A = Sigmoid.(transpose(w)*X .+ b)\n",
    "    J = -1/m * sum(Y*transpose(log.(A)) .+ (1 .- Y) * transpose(log.( 1 .- A)))\n",
    "    \n",
    "    # Backward Propagation\n",
    "    dw = 1/m .* X*transpose(A-Y)\n",
    "    db = 1/m * sum(A-Y)\n",
    "    \n",
    "    return dw, db, J\n",
    "end"
   ]
  },
  {
   "cell_type": "code",
   "execution_count": 14,
   "metadata": {},
   "outputs": [
    {
     "name": "stdout",
     "output_type": "stream",
     "text": [
      "dw = [0.998456014637956; 2.3950723884862066]\n",
      "db = 0.001455578136784208\n",
      "cost = 5.801545319394553\n"
     ]
    }
   ],
   "source": [
    "# Test function\n",
    "w, b, X, Y = reshape([1.; 2.],(2,1)), 2., [1. 2. -1.;3. 4. -3.2], [1 0 1]\n",
    "dw, db, cost = propagate(w, b, X, Y)\n",
    "println(\"dw = $dw\")\n",
    "println(\"db = $db\")\n",
    "println(\"cost = $cost\")"
   ]
  },
  {
   "cell_type": "markdown",
   "metadata": {},
   "source": [
    "The trickiest part of writing this code applying Linear Algebra is that one has to be very conscious of the broadcasting rule. To broadcast a function, one needs to add a period \".\" after the function name (e.g. \"Sigmoid.()\", \"log.()\") or before the operators (\".-\").<br>\n",
    "\n",
    "Also, some operations are already matrix operations (example \"sum()\"), which does not require broadcasting. Also, to apply dot product, one may simply use \"*\"."
   ]
  },
  {
   "cell_type": "markdown",
   "metadata": {},
   "source": [
    "#### Optimization"
   ]
  },
  {
   "cell_type": "code",
   "execution_count": 28,
   "metadata": {},
   "outputs": [
    {
     "data": {
      "text/plain": [
       "optimize (generic function with 2 methods)"
      ]
     },
     "execution_count": 28,
     "metadata": {},
     "output_type": "execute_result"
    }
   ],
   "source": [
    "function optimize(w, b, X, Y, num_iter, learning_rate; print_cost = false)\n",
    "    costs = zeros(0)\n",
    "    for i in 1:num_iter\n",
    "        \n",
    "        dw, db, cost = propagate(w, b, X, Y)\n",
    "        \n",
    "        w -= learning_rate*dw\n",
    "        b -= learning_rate*db\n",
    "        \n",
    "        if i%100 == 0\n",
    "            append!(costs, cost)\n",
    "            if print_cost == true\n",
    "                println(\"Cost after iteration $i: $cost\") \n",
    "            end\n",
    "        end\n",
    "    end\n",
    "        \n",
    "    return w, b, dw, db, costs\n",
    "end"
   ]
  },
  {
   "cell_type": "code",
   "execution_count": 16,
   "metadata": {},
   "outputs": [
    {
     "name": "stdout",
     "output_type": "stream",
     "text": [
      "Cost after iteration 100: 1.0784313398164707\n",
      "w = [0.19033590888604338; 0.12259159246561407]\n",
      "b = 1.9253598300845747\n",
      "dw = [0.998456014637956; 2.3950723884862066]\n",
      "db = 0.001455578136784208\n"
     ]
    }
   ],
   "source": [
    "# Test Function\n",
    "w, b, dw, db, costs = optimize(w, b, X, Y, 100, 0.009)\n",
    "println(\"w = $w\")\n",
    "println(\"b = $b\")\n",
    "println(\"dw = $dw\")\n",
    "println(\"db = $db\")"
   ]
  },
  {
   "cell_type": "markdown",
   "metadata": {},
   "source": [
    "#### Predict"
   ]
  },
  {
   "cell_type": "code",
   "execution_count": 17,
   "metadata": {},
   "outputs": [
    {
     "data": {
      "text/plain": [
       "predict (generic function with 1 method)"
      ]
     },
     "execution_count": 17,
     "metadata": {},
     "output_type": "execute_result"
    }
   ],
   "source": [
    "function predict(w, b, X)\n",
    "    m = size(X)[1]\n",
    "    w = reshape(w, (m,1))\n",
    "    \n",
    "    A = Sigmoid.(transpose(w)*X .+ b)\n",
    "    Y_pred = round.(Int,A)\n",
    "    \n",
    "    return Y_pred\n",
    "end"
   ]
  },
  {
   "cell_type": "code",
   "execution_count": 18,
   "metadata": {
    "scrolled": true
   },
   "outputs": [
    {
     "name": "stdout",
     "output_type": "stream",
     "text": [
      "predictions = [1 1 0]\n"
     ]
    }
   ],
   "source": [
    "# Test Function\n",
    "w = [0.1124579; 0.23106775]\n",
    "b = -0.3\n",
    "X = [1. -1.1 -3.2;1.2 2. 0.1]\n",
    "println(\"predictions = $(predict(w, b, X))\")"
   ]
  },
  {
   "cell_type": "markdown",
   "metadata": {},
   "source": [
    "## Completing the Logistic Regression Model"
   ]
  },
  {
   "cell_type": "code",
   "execution_count": 36,
   "metadata": {
    "scrolled": true
   },
   "outputs": [
    {
     "data": {
      "text/plain": [
       "logistic_regression_model (generic function with 3 methods)"
      ]
     },
     "execution_count": 36,
     "metadata": {},
     "output_type": "execute_result"
    }
   ],
   "source": [
    "function logistic_regression_model(X_train, Y_train, X_test, Y_test, num_iter = 2000, learning_rate = 0.005; print_output = true)\n",
    "    \n",
    "    # initialise parameters\n",
    "    \n",
    "    W, b = initialize_with_zeroes(size(X_train)[1])\n",
    "    \n",
    "    # Gradient Descent\n",
    "    W, b, dw, db, costs = optimize(W, b, X_train, Y_train, num_iter, learning_rate, print_cost = print_output)\n",
    "    \n",
    "    # Prediction\n",
    "    Y_pred_train = predict(W, b, X_train)\n",
    "    Y_pred_test = predict(W, b, X_test)\n",
    "    \n",
    "    # Results\n",
    "    train_acc = 1 - mean(abs.(Y_pred_train-Y_train))\n",
    "    test_acc = 1 - mean(abs.(Y_pred_test - Y_test))\n",
    "    if print_output == true\n",
    "        println(\"Train accuracy: $(100 * train_acc)%.\")\n",
    "        println(\"Test accuracy: $(100 * test_acc)%.\")\n",
    "    end\n",
    "    \n",
    "    results = Dict(\"Cost\" => costs, \"Y_prediction_train\" => Y_pred_train, \"Y_prediction_test\" => Y_pred_test,\n",
    "                    \"W\" => W, \"b\" => b, \"learning_rate\" => learning_rate, \"number_of_iterations\" => num_iter)\n",
    "    \n",
    "    return results\n",
    "end"
   ]
  },
  {
   "cell_type": "code",
   "execution_count": 37,
   "metadata": {},
   "outputs": [
    {
     "name": "stdout",
     "output_type": "stream",
     "text": [
      "Cost after iteration 100: 0.6448978829531701\n",
      "Cost after iteration 200: 0.4848936141484849\n",
      "Cost after iteration 300: 0.37776149521638064\n",
      "Cost after iteration 400: 0.33177540555235874\n",
      "Cost after iteration 500: 0.3035286720260554\n",
      "Cost after iteration 600: 0.28009427757967503\n",
      "Cost after iteration 700: 0.2602258475628189\n",
      "Cost after iteration 800: 0.24310018399838854\n",
      "Cost after iteration 900: 0.22814432769465368\n",
      "Cost after iteration 1000: 0.21494377069682488\n",
      "Cost after iteration 1100: 0.20318928219104626\n",
      "Cost after iteration 1200: 0.19264428020365887\n",
      "Cost after iteration 1300: 0.18312389153132902\n",
      "Cost after iteration 1400: 0.1744810138688702\n",
      "Cost after iteration 1500: 0.16659675354042908\n",
      "Cost after iteration 1600: 0.15937369509858537\n",
      "Cost after iteration 1700: 0.15273105849939203\n",
      "Cost after iteration 1800: 0.1466011462989889\n",
      "Cost after iteration 1900: 0.14092669166965174\n",
      "Cost after iteration 2000: 0.13565884743936968\n",
      "Train accuracy: 99.04306220095694%.\n",
      "Test accuracy: 70.0%.\n"
     ]
    }
   ],
   "source": [
    "d = logistic_regression_model(trainset_x_final, trainset_y, testset_x_final, testset_y);"
   ]
  },
  {
   "cell_type": "code",
   "execution_count": 39,
   "metadata": {},
   "outputs": [
    {
     "data": {
      "text/plain": [
       "BenchmarkTools.Trial: \n",
       "  memory estimate:  38.84 GiB\n",
       "  allocs estimate:  60065\n",
       "  --------------\n",
       "  minimum time:     8.529 s (9.63% GC)\n",
       "  median time:      8.529 s (9.63% GC)\n",
       "  mean time:        8.529 s (9.63% GC)\n",
       "  maximum time:     8.529 s (9.63% GC)\n",
       "  --------------\n",
       "  samples:          1\n",
       "  evals/sample:     1"
      ]
     },
     "execution_count": 39,
     "metadata": {},
     "output_type": "execute_result"
    }
   ],
   "source": [
    "@benchmark d = logistic_regression_model(trainset_x_final, trainset_y, testset_x_final, testset_y, print_output = false)"
   ]
  },
  {
   "cell_type": "code",
   "execution_count": 40,
   "metadata": {},
   "outputs": [
    {
     "data": {
      "image/png": "[encoded data removed]",
      "text/plain": [
       "Figure(PyObject <Figure size 640x480 with 1 Axes>)"
      ]
     },
     "metadata": {},
     "output_type": "display_data"
    },
    {
     "name": "stdout",
     "output_type": "stream",
     "text": [
      "y = 1, you predicted that it is a cat picture.\n"
     ]
    }
   ],
   "source": [
    "# Example of a picture that was correctly classified.\n",
    "imshow(testset_x[1,:,:,:]);\n",
    "println(\"y = $(testset_y[1,2]), you predicted that it is a $(testset_class[d[\"Y_prediction_test\"][1,2]+1]) picture.\")"
   ]
  },
  {
   "cell_type": "markdown",
   "metadata": {},
   "source": [
    "Just a short note - unlike python, Arrays in Julia is not 0-indexed, i.e. Arrays index begins not at 0, but at 1. And due to this, one needs to be mindful when mapping the label to the class, as it's no longer map to 0 and 1. This also explains the \"+1\" in \"testset_class[d[\"Y_prediction_test\"][1,2]+1]\"."
   ]
  },
  {
   "cell_type": "code",
   "execution_count": 41,
   "metadata": {},
   "outputs": [
    {
     "data": {
      "image/svg+xml": [
       "<?xml version=\"1.0\" encoding=\"utf-8\"?>\n",
       "<svg xmlns=\"http://www.w3.org/2000/svg\" xmlns:xlink=\"http://www.w3.org/1999/xlink\" width=\"600\" height=\"400\" viewBox=\"0 0 2400 1600\">\n",
       "<defs>\n",
       "  <clipPath id=\"clip9700\">\n",
       "    <rect x=\"0\" y=\"0\" width=\"2400\" height=\"1600\"/>\n",
       "  </clipPath>\n",
       "</defs>\n",
       "<path clip-path=\"url(#clip9700)\" d=\"\n",
       "M0 1600 L2400 1600 L2400 0 L0 0  Z\n",
       "  \" fill=\"#ffffff\" fill-rule=\"evenodd\" fill-opacity=\"1\"/>\n",
       "<defs>\n",
       "  <clipPath id=\"clip9701\">\n",
       "    <rect x=\"480\" y=\"0\" width=\"1681\" height=\"1600\"/>\n",
       "  </clipPath>\n",
       "</defs>\n",
       "<path clip-path=\"url(#clip9700)\" d=\"\n",
       "M215.754 1425.62 L2352.76 1425.62 L2352.76 121.675 L215.754 121.675  Z\n",
       "  \" fill=\"#ffffff\" fill-rule=\"evenodd\" fill-opacity=\"1\"/>\n",
       "<defs>\n",
       "  <clipPath id=\"clip9702\">\n",
       "    <rect x=\"215\" y=\"121\" width=\"2138\" height=\"1305\"/>\n",
       "  </clipPath>\n",
       "</defs>\n",
       "<polyline clip-path=\"url(#clip9702)\" style=\"stroke:#000000; stroke-width:2; stroke-opacity:0.1; fill:none\" points=\"\n",
       "  275.174,1425.62 275.174,121.675 \n",
       "  \"/>\n",
       "<polyline clip-path=\"url(#clip9702)\" style=\"stroke:#000000; stroke-width:2; stroke-opacity:0.1; fill:none\" points=\"\n",
       "  805.711,1425.62 805.711,121.675 \n",
       "  \"/>\n",
       "<polyline clip-path=\"url(#clip9702)\" style=\"stroke:#000000; stroke-width:2; stroke-opacity:0.1; fill:none\" points=\"\n",
       "  1336.25,1425.62 1336.25,121.675 \n",
       "  \"/>\n",
       "<polyline clip-path=\"url(#clip9702)\" style=\"stroke:#000000; stroke-width:2; stroke-opacity:0.1; fill:none\" points=\"\n",
       "  1866.78,1425.62 1866.78,121.675 \n",
       "  \"/>\n",
       "<polyline clip-path=\"url(#clip9702)\" style=\"stroke:#000000; stroke-width:2; stroke-opacity:0.1; fill:none\" points=\"\n",
       "  215.754,1233.29 2352.76,1233.29 \n",
       "  \"/>\n",
       "<polyline clip-path=\"url(#clip9702)\" style=\"stroke:#000000; stroke-width:2; stroke-opacity:0.1; fill:none\" points=\"\n",
       "  215.754,991.726 2352.76,991.726 \n",
       "  \"/>\n",
       "<polyline clip-path=\"url(#clip9702)\" style=\"stroke:#000000; stroke-width:2; stroke-opacity:0.1; fill:none\" points=\"\n",
       "  215.754,750.163 2352.76,750.163 \n",
       "  \"/>\n",
       "<polyline clip-path=\"url(#clip9702)\" style=\"stroke:#000000; stroke-width:2; stroke-opacity:0.1; fill:none\" points=\"\n",
       "  215.754,508.6 2352.76,508.6 \n",
       "  \"/>\n",
       "<polyline clip-path=\"url(#clip9702)\" style=\"stroke:#000000; stroke-width:2; stroke-opacity:0.1; fill:none\" points=\"\n",
       "  215.754,267.036 2352.76,267.036 \n",
       "  \"/>\n",
       "<polyline clip-path=\"url(#clip9700)\" style=\"stroke:#000000; stroke-width:4; stroke-opacity:1; fill:none\" points=\"\n",
       "  215.754,1425.62 2352.76,1425.62 \n",
       "  \"/>\n",
       "<polyline clip-path=\"url(#clip9700)\" style=\"stroke:#000000; stroke-width:4; stroke-opacity:1; fill:none\" points=\"\n",
       "  215.754,1425.62 215.754,121.675 \n",
       "  \"/>\n",
       "<polyline clip-path=\"url(#clip9700)\" style=\"stroke:#000000; stroke-width:4; stroke-opacity:1; fill:none\" points=\"\n",
       "  275.174,1425.62 275.174,1409.97 \n",
       "  \"/>\n",
       "<polyline clip-path=\"url(#clip9700)\" style=\"stroke:#000000; stroke-width:4; stroke-opacity:1; fill:none\" points=\"\n",
       "  805.711,1425.62 805.711,1409.97 \n",
       "  \"/>\n",
       "<polyline clip-path=\"url(#clip9700)\" style=\"stroke:#000000; stroke-width:4; stroke-opacity:1; fill:none\" points=\"\n",
       "  1336.25,1425.62 1336.25,1409.97 \n",
       "  \"/>\n",
       "<polyline clip-path=\"url(#clip9700)\" style=\"stroke:#000000; stroke-width:4; stroke-opacity:1; fill:none\" points=\"\n",
       "  1866.78,1425.62 1866.78,1409.97 \n",
       "  \"/>\n",
       "<polyline clip-path=\"url(#clip9700)\" style=\"stroke:#000000; stroke-width:4; stroke-opacity:1; fill:none\" points=\"\n",
       "  215.754,1233.29 241.398,1233.29 \n",
       "  \"/>\n",
       "<polyline clip-path=\"url(#clip9700)\" style=\"stroke:#000000; stroke-width:4; stroke-opacity:1; fill:none\" points=\"\n",
       "  215.754,991.726 241.398,991.726 \n",
       "  \"/>\n",
       "<polyline clip-path=\"url(#clip9700)\" style=\"stroke:#000000; stroke-width:4; stroke-opacity:1; fill:none\" points=\"\n",
       "  215.754,750.163 241.398,750.163 \n",
       "  \"/>\n",
       "<polyline clip-path=\"url(#clip9700)\" style=\"stroke:#000000; stroke-width:4; stroke-opacity:1; fill:none\" points=\"\n",
       "  215.754,508.6 241.398,508.6 \n",
       "  \"/>\n",
       "<polyline clip-path=\"url(#clip9700)\" style=\"stroke:#000000; stroke-width:4; stroke-opacity:1; fill:none\" points=\"\n",
       "  215.754,267.036 241.398,267.036 \n",
       "  \"/>\n",
       "<g clip-path=\"url(#clip9700)\">\n",
       "<text style=\"fill:#000000; fill-opacity:1; font-family:Arial,Helvetica Neue,Helvetica,sans-serif; font-size:48px; text-anchor:middle;\" transform=\"rotate(0, 275.174, 1479.62)\" x=\"275.174\" y=\"1479.62\">0</text>\n",
       "</g>\n",
       "<g clip-path=\"url(#clip9700)\">\n",
       "<text style=\"fill:#000000; fill-opacity:1; font-family:Arial,Helvetica Neue,Helvetica,sans-serif; font-size:48px; text-anchor:middle;\" transform=\"rotate(0, 805.711, 1479.62)\" x=\"805.711\" y=\"1479.62\">500</text>\n",
       "</g>\n",
       "<g clip-path=\"url(#clip9700)\">\n",
       "<text style=\"fill:#000000; fill-opacity:1; font-family:Arial,Helvetica Neue,Helvetica,sans-serif; font-size:48px; text-anchor:middle;\" transform=\"rotate(0, 1336.25, 1479.62)\" x=\"1336.25\" y=\"1479.62\">1000</text>\n",
       "</g>\n",
       "<g clip-path=\"url(#clip9700)\">\n",
       "<text style=\"fill:#000000; fill-opacity:1; font-family:Arial,Helvetica Neue,Helvetica,sans-serif; font-size:48px; text-anchor:middle;\" transform=\"rotate(0, 1866.78, 1479.62)\" x=\"1866.78\" y=\"1479.62\">1500</text>\n",
       "</g>\n",
       "<g clip-path=\"url(#clip9700)\">\n",
       "<text style=\"fill:#000000; fill-opacity:1; font-family:Arial,Helvetica Neue,Helvetica,sans-serif; font-size:48px; text-anchor:end;\" transform=\"rotate(0, 191.754, 1250.79)\" x=\"191.754\" y=\"1250.79\">0.2</text>\n",
       "</g>\n",
       "<g clip-path=\"url(#clip9700)\">\n",
       "<text style=\"fill:#000000; fill-opacity:1; font-family:Arial,Helvetica Neue,Helvetica,sans-serif; font-size:48px; text-anchor:end;\" transform=\"rotate(0, 191.754, 1009.23)\" x=\"191.754\" y=\"1009.23\">0.3</text>\n",
       "</g>\n",
       "<g clip-path=\"url(#clip9700)\">\n",
       "<text style=\"fill:#000000; fill-opacity:1; font-family:Arial,Helvetica Neue,Helvetica,sans-serif; font-size:48px; text-anchor:end;\" transform=\"rotate(0, 191.754, 767.663)\" x=\"191.754\" y=\"767.663\">0.4</text>\n",
       "</g>\n",
       "<g clip-path=\"url(#clip9700)\">\n",
       "<text style=\"fill:#000000; fill-opacity:1; font-family:Arial,Helvetica Neue,Helvetica,sans-serif; font-size:48px; text-anchor:end;\" transform=\"rotate(0, 191.754, 526.1)\" x=\"191.754\" y=\"526.1\">0.5</text>\n",
       "</g>\n",
       "<g clip-path=\"url(#clip9700)\">\n",
       "<text style=\"fill:#000000; fill-opacity:1; font-family:Arial,Helvetica Neue,Helvetica,sans-serif; font-size:48px; text-anchor:end;\" transform=\"rotate(0, 191.754, 284.536)\" x=\"191.754\" y=\"284.536\">0.6</text>\n",
       "</g>\n",
       "<g clip-path=\"url(#clip9700)\">\n",
       "<text style=\"fill:#000000; fill-opacity:1; font-family:Arial,Helvetica Neue,Helvetica,sans-serif; font-size:84px; text-anchor:middle;\" transform=\"rotate(0, 1284.25, 73.2)\" x=\"1284.25\" y=\"73.2\">Learning rate = 0.005</text>\n",
       "</g>\n",
       "<g clip-path=\"url(#clip9700)\">\n",
       "<text style=\"fill:#000000; fill-opacity:1; font-family:Arial,Helvetica Neue,Helvetica,sans-serif; font-size:66px; text-anchor:middle;\" transform=\"rotate(0, 1284.25, 1559.48)\" x=\"1284.25\" y=\"1559.48\">Number of iterations</text>\n",
       "</g>\n",
       "<g clip-path=\"url(#clip9700)\">\n",
       "<text style=\"fill:#000000; fill-opacity:1; font-family:Arial,Helvetica Neue,Helvetica,sans-serif; font-size:66px; text-anchor:middle;\" transform=\"rotate(-90, 89.2861, 773.647)\" x=\"89.2861\" y=\"773.647\">Costs</text>\n",
       "</g>\n",
       "<polyline clip-path=\"url(#clip9702)\" style=\"stroke:#009af9; stroke-width:4; stroke-opacity:1; fill:none\" points=\"\n",
       "  276.235,158.579 382.343,545.091 488.45,803.883 594.557,914.969 700.665,983.202 806.772,1039.81 912.879,1087.81 1018.99,1129.18 1125.09,1165.3 1231.2,1197.19 \n",
       "  1337.31,1225.59 1443.42,1251.06 1549.52,1274.06 1655.63,1294.93 1761.74,1313.98 1867.85,1331.43 1973.95,1347.47 2080.06,1362.28 2186.17,1375.99 2292.27,1388.71 \n",
       "  \n",
       "  \"/>\n",
       "<path clip-path=\"url(#clip9700)\" d=\"\n",
       "M1989.93 326.155 L2280.76 326.155 L2280.76 205.195 L1989.93 205.195  Z\n",
       "  \" fill=\"#ffffff\" fill-rule=\"evenodd\" fill-opacity=\"1\"/>\n",
       "<polyline clip-path=\"url(#clip9700)\" style=\"stroke:#000000; stroke-width:4; stroke-opacity:1; fill:none\" points=\"\n",
       "  1989.93,326.155 2280.76,326.155 2280.76,205.195 1989.93,205.195 1989.93,326.155 \n",
       "  \"/>\n",
       "<polyline clip-path=\"url(#clip9700)\" style=\"stroke:#009af9; stroke-width:4; stroke-opacity:1; fill:none\" points=\"\n",
       "  2013.93,265.675 2157.93,265.675 \n",
       "  \"/>\n",
       "<g clip-path=\"url(#clip9700)\">\n",
       "<text style=\"fill:#000000; fill-opacity:1; font-family:Arial,Helvetica Neue,Helvetica,sans-serif; font-size:48px; text-anchor:start;\" transform=\"rotate(0, 2181.93, 283.175)\" x=\"2181.93\" y=\"283.175\">y1</text>\n",
       "</g>\n",
       "</svg>\n"
      ]
     },
     "execution_count": 41,
     "metadata": {},
     "output_type": "execute_result"
    }
   ],
   "source": [
    "# Plot learning curve (with costs)\n",
    "x = 1:100:2000\n",
    "y = d[\"Cost\"]\n",
    "Plots.plot(x,y, title = \"Learning rate = 0.005\")\n",
    "Plots.xlabel!(\"Number of iterations\")\n",
    "Plots.ylabel!(\"Costs\")\n"
   ]
  },
  {
   "cell_type": "code",
   "execution_count": null,
   "metadata": {},
   "outputs": [],
   "source": []
  }
 ],
 "metadata": {
  "kernelspec": {
   "display_name": "Julia 1.5.3",
   "language": "julia",
   "name": "julia-1.5"
  },
  "language_info": {
   "file_extension": ".jl",
   "mimetype": "application/julia",
   "name": "julia",
   "version": "1.5.3"
  }
 },
 "nbformat": 4,
 "nbformat_minor": 4
}
